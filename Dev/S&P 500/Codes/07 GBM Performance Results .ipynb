{
 "cells": [
  {
   "cell_type": "markdown",
   "metadata": {},
   "source": [
    "# <span style=\"color:Maroon\">Trade Strategy"
   ]
  },
  {
   "cell_type": "markdown",
   "metadata": {},
   "source": [
    "__Summary:__ <span style=\"color:Blue\">In this code we shall test the results of given model"
   ]
  },
  {
   "cell_type": "code",
   "execution_count": 1,
   "metadata": {},
   "outputs": [],
   "source": [
    "# Import required libraries\n",
    "import pandas as pd\n",
    "import numpy as np\n",
    "import matplotlib.pyplot as plt\n",
    "import os\n",
    "np.random.seed(0)"
   ]
  },
  {
   "cell_type": "code",
   "execution_count": 2,
   "metadata": {},
   "outputs": [],
   "source": [
    "import warnings\n",
    "warnings.filterwarnings('ignore')"
   ]
  },
  {
   "cell_type": "code",
   "execution_count": 3,
   "metadata": {},
   "outputs": [],
   "source": [
    "# User defined names\n",
    "index = \"S&P500\"\n",
    "filename_whole = \"whole_dataset\"+index+\"_gbm_model.csv\"\n",
    "filename_trending = \"Trending_dataset\"+index+\"_gbm_model.csv\"\n",
    "filename_meanreverting = \"MeanReverting_dataset\"+index+\"_gbm_model.csv\"\n",
    "date_col = \"Date\"\n",
    "Rf = 0.01 #Risk free rate of return"
   ]
  },
  {
   "cell_type": "code",
   "execution_count": 4,
   "metadata": {},
   "outputs": [
    {
     "name": "stdout",
     "output_type": "stream",
     "text": [
      "C:\\Users\\sidhu\\Downloads\\Course 10 Capstone Project\\Trading Strategy Development\\Dev\\S&P 500\\Codes\n"
     ]
    }
   ],
   "source": [
    "# Get current working directory\n",
    "mycwd = os.getcwd()\n",
    "print(mycwd)"
   ]
  },
  {
   "cell_type": "code",
   "execution_count": 5,
   "metadata": {},
   "outputs": [],
   "source": [
    "# Change to data directory\n",
    "os.chdir(\"..\")\n",
    "os.chdir(str(os.getcwd()) + \"\\\\Data\")"
   ]
  },
  {
   "cell_type": "code",
   "execution_count": 6,
   "metadata": {},
   "outputs": [],
   "source": [
    "# Read the datasets\n",
    "df_whole = pd.read_csv(filename_whole, index_col=date_col)\n",
    "df_trending = pd.read_csv(filename_trending, index_col=date_col)\n",
    "df_meanreverting = pd.read_csv(filename_meanreverting, index_col=date_col)\n",
    "# Convert index to datetime\n",
    "df_whole.index = pd.to_datetime(df_whole.index)\n",
    "df_trending.index = pd.to_datetime(df_trending.index)\n",
    "df_meanreverting.index = pd.to_datetime(df_meanreverting.index)"
   ]
  },
  {
   "cell_type": "code",
   "execution_count": 7,
   "metadata": {},
   "outputs": [
    {
     "data": {
      "text/html": [
       "<div>\n",
       "<style scoped>\n",
       "    .dataframe tbody tr th:only-of-type {\n",
       "        vertical-align: middle;\n",
       "    }\n",
       "\n",
       "    .dataframe tbody tr th {\n",
       "        vertical-align: top;\n",
       "    }\n",
       "\n",
       "    .dataframe thead th {\n",
       "        text-align: right;\n",
       "    }\n",
       "</style>\n",
       "<table border=\"1\" class=\"dataframe\">\n",
       "  <thead>\n",
       "    <tr style=\"text-align: right;\">\n",
       "      <th></th>\n",
       "      <th>Target</th>\n",
       "      <th>Predicted</th>\n",
       "      <th>Adj Close</th>\n",
       "      <th>Open</th>\n",
       "      <th>DVT STD</th>\n",
       "      <th>Sample</th>\n",
       "    </tr>\n",
       "    <tr>\n",
       "      <th>Date</th>\n",
       "      <th></th>\n",
       "      <th></th>\n",
       "      <th></th>\n",
       "      <th></th>\n",
       "      <th></th>\n",
       "      <th></th>\n",
       "    </tr>\n",
       "  </thead>\n",
       "  <tbody>\n",
       "    <tr>\n",
       "      <th>2012-08-01</th>\n",
       "      <td>1</td>\n",
       "      <td>1</td>\n",
       "      <td>1375.319946</td>\n",
       "      <td>1379.319946</td>\n",
       "      <td>16.127950</td>\n",
       "      <td>Train</td>\n",
       "    </tr>\n",
       "    <tr>\n",
       "      <th>2012-08-02</th>\n",
       "      <td>1</td>\n",
       "      <td>1</td>\n",
       "      <td>1365.000000</td>\n",
       "      <td>1375.130005</td>\n",
       "      <td>16.070596</td>\n",
       "      <td>Train</td>\n",
       "    </tr>\n",
       "    <tr>\n",
       "      <th>2012-08-03</th>\n",
       "      <td>0</td>\n",
       "      <td>0</td>\n",
       "      <td>1390.989990</td>\n",
       "      <td>1365.449951</td>\n",
       "      <td>17.494200</td>\n",
       "      <td>Train</td>\n",
       "    </tr>\n",
       "    <tr>\n",
       "      <th>2012-08-06</th>\n",
       "      <td>0</td>\n",
       "      <td>0</td>\n",
       "      <td>1394.229980</td>\n",
       "      <td>1391.040039</td>\n",
       "      <td>18.832814</td>\n",
       "      <td>Train</td>\n",
       "    </tr>\n",
       "    <tr>\n",
       "      <th>2012-08-07</th>\n",
       "      <td>0</td>\n",
       "      <td>0</td>\n",
       "      <td>1401.349976</td>\n",
       "      <td>1394.459961</td>\n",
       "      <td>19.904058</td>\n",
       "      <td>Train</td>\n",
       "    </tr>\n",
       "  </tbody>\n",
       "</table>\n",
       "</div>"
      ],
      "text/plain": [
       "            Target  Predicted    Adj Close         Open    DVT STD Sample\n",
       "Date                                                                     \n",
       "2012-08-01       1          1  1375.319946  1379.319946  16.127950  Train\n",
       "2012-08-02       1          1  1365.000000  1375.130005  16.070596  Train\n",
       "2012-08-03       0          0  1390.989990  1365.449951  17.494200  Train\n",
       "2012-08-06       0          0  1394.229980  1391.040039  18.832814  Train\n",
       "2012-08-07       0          0  1401.349976  1394.459961  19.904058  Train"
      ]
     },
     "execution_count": 7,
     "metadata": {},
     "output_type": "execute_result"
    }
   ],
   "source": [
    "# Head for whole dataset\n",
    "df_whole.head()"
   ]
  },
  {
   "cell_type": "code",
   "execution_count": 8,
   "metadata": {},
   "outputs": [
    {
     "data": {
      "text/plain": [
       "(2119, 6)"
      ]
     },
     "execution_count": 8,
     "metadata": {},
     "output_type": "execute_result"
    }
   ],
   "source": [
    "df_whole.shape"
   ]
  },
  {
   "cell_type": "code",
   "execution_count": 9,
   "metadata": {},
   "outputs": [
    {
     "data": {
      "text/html": [
       "<div>\n",
       "<style scoped>\n",
       "    .dataframe tbody tr th:only-of-type {\n",
       "        vertical-align: middle;\n",
       "    }\n",
       "\n",
       "    .dataframe tbody tr th {\n",
       "        vertical-align: top;\n",
       "    }\n",
       "\n",
       "    .dataframe thead th {\n",
       "        text-align: right;\n",
       "    }\n",
       "</style>\n",
       "<table border=\"1\" class=\"dataframe\">\n",
       "  <thead>\n",
       "    <tr style=\"text-align: right;\">\n",
       "      <th></th>\n",
       "      <th>Target</th>\n",
       "      <th>Predicted</th>\n",
       "      <th>Adj Close</th>\n",
       "      <th>Open</th>\n",
       "      <th>DVT STD</th>\n",
       "      <th>Sample</th>\n",
       "    </tr>\n",
       "    <tr>\n",
       "      <th>Date</th>\n",
       "      <th></th>\n",
       "      <th></th>\n",
       "      <th></th>\n",
       "      <th></th>\n",
       "      <th></th>\n",
       "      <th></th>\n",
       "    </tr>\n",
       "  </thead>\n",
       "  <tbody>\n",
       "    <tr>\n",
       "      <th>2012-08-21</th>\n",
       "      <td>0</td>\n",
       "      <td>0</td>\n",
       "      <td>1413.170044</td>\n",
       "      <td>1418.130005</td>\n",
       "      <td>21.170986</td>\n",
       "      <td>Train</td>\n",
       "    </tr>\n",
       "    <tr>\n",
       "      <th>2012-08-22</th>\n",
       "      <td>0</td>\n",
       "      <td>0</td>\n",
       "      <td>1413.489990</td>\n",
       "      <td>1413.089966</td>\n",
       "      <td>17.131879</td>\n",
       "      <td>Train</td>\n",
       "    </tr>\n",
       "    <tr>\n",
       "      <th>2012-08-24</th>\n",
       "      <td>0</td>\n",
       "      <td>0</td>\n",
       "      <td>1411.130005</td>\n",
       "      <td>1401.989990</td>\n",
       "      <td>14.661186</td>\n",
       "      <td>Train</td>\n",
       "    </tr>\n",
       "    <tr>\n",
       "      <th>2012-08-29</th>\n",
       "      <td>1</td>\n",
       "      <td>1</td>\n",
       "      <td>1410.489990</td>\n",
       "      <td>1409.319946</td>\n",
       "      <td>11.832439</td>\n",
       "      <td>Train</td>\n",
       "    </tr>\n",
       "    <tr>\n",
       "      <th>2012-08-31</th>\n",
       "      <td>1</td>\n",
       "      <td>1</td>\n",
       "      <td>1406.579956</td>\n",
       "      <td>1400.069946</td>\n",
       "      <td>6.414729</td>\n",
       "      <td>Train</td>\n",
       "    </tr>\n",
       "  </tbody>\n",
       "</table>\n",
       "</div>"
      ],
      "text/plain": [
       "            Target  Predicted    Adj Close         Open    DVT STD Sample\n",
       "Date                                                                     \n",
       "2012-08-21       0          0  1413.170044  1418.130005  21.170986  Train\n",
       "2012-08-22       0          0  1413.489990  1413.089966  17.131879  Train\n",
       "2012-08-24       0          0  1411.130005  1401.989990  14.661186  Train\n",
       "2012-08-29       1          1  1410.489990  1409.319946  11.832439  Train\n",
       "2012-08-31       1          1  1406.579956  1400.069946   6.414729  Train"
      ]
     },
     "execution_count": 9,
     "metadata": {},
     "output_type": "execute_result"
    }
   ],
   "source": [
    "# Head for Trending dataset\n",
    "df_trending.head()"
   ]
  },
  {
   "cell_type": "code",
   "execution_count": 10,
   "metadata": {},
   "outputs": [
    {
     "data": {
      "text/plain": [
       "(877, 6)"
      ]
     },
     "execution_count": 10,
     "metadata": {},
     "output_type": "execute_result"
    }
   ],
   "source": [
    "df_trending.shape"
   ]
  },
  {
   "cell_type": "code",
   "execution_count": 11,
   "metadata": {},
   "outputs": [
    {
     "data": {
      "text/html": [
       "<div>\n",
       "<style scoped>\n",
       "    .dataframe tbody tr th:only-of-type {\n",
       "        vertical-align: middle;\n",
       "    }\n",
       "\n",
       "    .dataframe tbody tr th {\n",
       "        vertical-align: top;\n",
       "    }\n",
       "\n",
       "    .dataframe thead th {\n",
       "        text-align: right;\n",
       "    }\n",
       "</style>\n",
       "<table border=\"1\" class=\"dataframe\">\n",
       "  <thead>\n",
       "    <tr style=\"text-align: right;\">\n",
       "      <th></th>\n",
       "      <th>Target</th>\n",
       "      <th>Predicted</th>\n",
       "      <th>Adj Close</th>\n",
       "      <th>Open</th>\n",
       "      <th>DVT STD</th>\n",
       "      <th>Sample</th>\n",
       "    </tr>\n",
       "    <tr>\n",
       "      <th>Date</th>\n",
       "      <th></th>\n",
       "      <th></th>\n",
       "      <th></th>\n",
       "      <th></th>\n",
       "      <th></th>\n",
       "      <th></th>\n",
       "    </tr>\n",
       "  </thead>\n",
       "  <tbody>\n",
       "    <tr>\n",
       "      <th>2012-08-01</th>\n",
       "      <td>1</td>\n",
       "      <td>0</td>\n",
       "      <td>1375.319946</td>\n",
       "      <td>1379.319946</td>\n",
       "      <td>16.127950</td>\n",
       "      <td>Train</td>\n",
       "    </tr>\n",
       "    <tr>\n",
       "      <th>2012-08-02</th>\n",
       "      <td>1</td>\n",
       "      <td>1</td>\n",
       "      <td>1365.000000</td>\n",
       "      <td>1375.130005</td>\n",
       "      <td>16.070596</td>\n",
       "      <td>Train</td>\n",
       "    </tr>\n",
       "    <tr>\n",
       "      <th>2012-08-03</th>\n",
       "      <td>0</td>\n",
       "      <td>0</td>\n",
       "      <td>1390.989990</td>\n",
       "      <td>1365.449951</td>\n",
       "      <td>17.494200</td>\n",
       "      <td>Train</td>\n",
       "    </tr>\n",
       "    <tr>\n",
       "      <th>2012-08-06</th>\n",
       "      <td>0</td>\n",
       "      <td>0</td>\n",
       "      <td>1394.229980</td>\n",
       "      <td>1391.040039</td>\n",
       "      <td>18.832814</td>\n",
       "      <td>Train</td>\n",
       "    </tr>\n",
       "    <tr>\n",
       "      <th>2012-08-07</th>\n",
       "      <td>0</td>\n",
       "      <td>0</td>\n",
       "      <td>1401.349976</td>\n",
       "      <td>1394.459961</td>\n",
       "      <td>19.904058</td>\n",
       "      <td>Train</td>\n",
       "    </tr>\n",
       "  </tbody>\n",
       "</table>\n",
       "</div>"
      ],
      "text/plain": [
       "            Target  Predicted    Adj Close         Open    DVT STD Sample\n",
       "Date                                                                     \n",
       "2012-08-01       1          0  1375.319946  1379.319946  16.127950  Train\n",
       "2012-08-02       1          1  1365.000000  1375.130005  16.070596  Train\n",
       "2012-08-03       0          0  1390.989990  1365.449951  17.494200  Train\n",
       "2012-08-06       0          0  1394.229980  1391.040039  18.832814  Train\n",
       "2012-08-07       0          0  1401.349976  1394.459961  19.904058  Train"
      ]
     },
     "execution_count": 11,
     "metadata": {},
     "output_type": "execute_result"
    }
   ],
   "source": [
    "# Head for Mean Reverting dataset\n",
    "df_meanreverting.head()"
   ]
  },
  {
   "cell_type": "code",
   "execution_count": 12,
   "metadata": {},
   "outputs": [
    {
     "data": {
      "text/plain": [
       "(1242, 6)"
      ]
     },
     "execution_count": 12,
     "metadata": {},
     "output_type": "execute_result"
    }
   ],
   "source": [
    "df_meanreverting.shape"
   ]
  },
  {
   "cell_type": "code",
   "execution_count": 13,
   "metadata": {},
   "outputs": [
    {
     "data": {
      "text/html": [
       "<div>\n",
       "<style scoped>\n",
       "    .dataframe tbody tr th:only-of-type {\n",
       "        vertical-align: middle;\n",
       "    }\n",
       "\n",
       "    .dataframe tbody tr th {\n",
       "        vertical-align: top;\n",
       "    }\n",
       "\n",
       "    .dataframe thead th {\n",
       "        text-align: right;\n",
       "    }\n",
       "</style>\n",
       "<table border=\"1\" class=\"dataframe\">\n",
       "  <thead>\n",
       "    <tr style=\"text-align: right;\">\n",
       "      <th></th>\n",
       "      <th>Target</th>\n",
       "      <th>Predicted</th>\n",
       "      <th>Adj Close</th>\n",
       "      <th>Open</th>\n",
       "      <th>DVT STD</th>\n",
       "      <th>Sample</th>\n",
       "    </tr>\n",
       "    <tr>\n",
       "      <th>Date</th>\n",
       "      <th></th>\n",
       "      <th></th>\n",
       "      <th></th>\n",
       "      <th></th>\n",
       "      <th></th>\n",
       "      <th></th>\n",
       "    </tr>\n",
       "  </thead>\n",
       "  <tbody>\n",
       "    <tr>\n",
       "      <th>2012-08-01</th>\n",
       "      <td>1</td>\n",
       "      <td>0</td>\n",
       "      <td>1375.319946</td>\n",
       "      <td>1379.319946</td>\n",
       "      <td>16.127950</td>\n",
       "      <td>Train</td>\n",
       "    </tr>\n",
       "    <tr>\n",
       "      <th>2012-08-02</th>\n",
       "      <td>1</td>\n",
       "      <td>1</td>\n",
       "      <td>1365.000000</td>\n",
       "      <td>1375.130005</td>\n",
       "      <td>16.070596</td>\n",
       "      <td>Train</td>\n",
       "    </tr>\n",
       "    <tr>\n",
       "      <th>2012-08-03</th>\n",
       "      <td>0</td>\n",
       "      <td>0</td>\n",
       "      <td>1390.989990</td>\n",
       "      <td>1365.449951</td>\n",
       "      <td>17.494200</td>\n",
       "      <td>Train</td>\n",
       "    </tr>\n",
       "    <tr>\n",
       "      <th>2012-08-06</th>\n",
       "      <td>0</td>\n",
       "      <td>0</td>\n",
       "      <td>1394.229980</td>\n",
       "      <td>1391.040039</td>\n",
       "      <td>18.832814</td>\n",
       "      <td>Train</td>\n",
       "    </tr>\n",
       "    <tr>\n",
       "      <th>2012-08-07</th>\n",
       "      <td>0</td>\n",
       "      <td>0</td>\n",
       "      <td>1401.349976</td>\n",
       "      <td>1394.459961</td>\n",
       "      <td>19.904058</td>\n",
       "      <td>Train</td>\n",
       "    </tr>\n",
       "  </tbody>\n",
       "</table>\n",
       "</div>"
      ],
      "text/plain": [
       "            Target  Predicted    Adj Close         Open    DVT STD Sample\n",
       "Date                                                                     \n",
       "2012-08-01       1          0  1375.319946  1379.319946  16.127950  Train\n",
       "2012-08-02       1          1  1365.000000  1375.130005  16.070596  Train\n",
       "2012-08-03       0          0  1390.989990  1365.449951  17.494200  Train\n",
       "2012-08-06       0          0  1394.229980  1391.040039  18.832814  Train\n",
       "2012-08-07       0          0  1401.349976  1394.459961  19.904058  Train"
      ]
     },
     "execution_count": 13,
     "metadata": {},
     "output_type": "execute_result"
    }
   ],
   "source": [
    "# Merge results from both models to one\n",
    "df_model = df_trending.append(df_meanreverting)\n",
    "df_model.sort_index(inplace=True)\n",
    "df_model.head()"
   ]
  },
  {
   "cell_type": "code",
   "execution_count": 14,
   "metadata": {},
   "outputs": [
    {
     "data": {
      "text/plain": [
       "(2119, 6)"
      ]
     },
     "execution_count": 14,
     "metadata": {},
     "output_type": "execute_result"
    }
   ],
   "source": [
    "df_model.shape"
   ]
  },
  {
   "cell_type": "markdown",
   "metadata": {},
   "source": [
    "        "
   ]
  },
  {
   "cell_type": "markdown",
   "metadata": {},
   "source": [
    "         "
   ]
  },
  {
   "cell_type": "markdown",
   "metadata": {},
   "source": [
    "## <span style=\"color:Maroon\">Functions"
   ]
  },
  {
   "cell_type": "code",
   "execution_count": 15,
   "metadata": {},
   "outputs": [],
   "source": [
    "def initialize(df):\n",
    "    days, Action1, Action2, current_status, Money, Shares = ([] for i in range(6))\n",
    "    Open_price = list(df['Open'])\n",
    "    Close_price = list(df['Adj Close'])\n",
    "    Predicted = list(df['Predicted'])\n",
    "    Action1.append(Predicted[0])\n",
    "    Action2.append(0)\n",
    "    current_status.append(Predicted[0])\n",
    "    if(Predicted[0] != 0):\n",
    "        days.append(1)\n",
    "        if(Predicted[0] == 1):\n",
    "            Money.append(0)\n",
    "        else:\n",
    "            Money.append(200)\n",
    "        Shares.append(Predicted[0] * (100/Open_price[0]))\n",
    "    else:\n",
    "        days.append(0)\n",
    "        Money.append(100)\n",
    "        Shares.append(0)\n",
    "    return days, Action1, Action2, current_status, Predicted, Money, Shares, Open_price, Close_price"
   ]
  },
  {
   "cell_type": "code",
   "execution_count": 16,
   "metadata": {},
   "outputs": [],
   "source": [
    "def Action_SA_SA(days, Action1, Action2, current_status, i):\n",
    "    if(current_status[i-1] != 0):\n",
    "        days.append(1)\n",
    "    else:\n",
    "        days.append(0)\n",
    "    current_status.append(current_status[i-1])\n",
    "    Action1.append(0)\n",
    "    Action2.append(0)\n",
    "    return days, Action1, Action2, current_status"
   ]
  },
  {
   "cell_type": "code",
   "execution_count": 17,
   "metadata": {},
   "outputs": [],
   "source": [
    "def Action_ZE_NZE(days, Action1, Action2, current_status, i):\n",
    "    if(days[i-1] < 5):\n",
    "        days.append(days[i-1] + 1)\n",
    "        Action1.append(0)\n",
    "        Action2.append(0)\n",
    "        current_status.append(current_status[i-1])\n",
    "    else:\n",
    "        days.append(0)\n",
    "        Action1.append(current_status[i-1] * (-1))\n",
    "        Action2.append(0)\n",
    "        current_status.append(0)\n",
    "    return days, Action1, Action2, current_status"
   ]
  },
  {
   "cell_type": "code",
   "execution_count": 18,
   "metadata": {},
   "outputs": [],
   "source": [
    "def Action_NZE_ZE(days, Action1, Action2, current_status, Predicted, i):\n",
    "    current_status.append(Predicted[i])\n",
    "    Action1.append(Predicted[i])\n",
    "    Action2.append(0)\n",
    "    days.append(days[i-1] + 1)\n",
    "    return days, Action1, Action2, current_status"
   ]
  },
  {
   "cell_type": "code",
   "execution_count": 19,
   "metadata": {},
   "outputs": [],
   "source": [
    "def Action_NZE_NZE(days, Action1, Action2, current_status, Predicted, i):\n",
    "    current_status.append(Predicted[i])\n",
    "    Action1.append(Predicted[i])\n",
    "    Action2.append(Predicted[i])\n",
    "    days.append(1)\n",
    "    return days, Action1, Action2, current_status"
   ]
  },
  {
   "cell_type": "code",
   "execution_count": 20,
   "metadata": {},
   "outputs": [],
   "source": [
    "def get_df(df, Action1, Action2, days, current_status, Money, Shares):\n",
    "    df['Action1'] = Action1\n",
    "    df['Action2'] = Action2\n",
    "    df['days'] = days\n",
    "    df['current_status'] =  current_status\n",
    "    df['Money'] = Money\n",
    "    df['Shares'] = Shares\n",
    "    return df"
   ]
  },
  {
   "cell_type": "code",
   "execution_count": 21,
   "metadata": {},
   "outputs": [],
   "source": [
    "def Get_TradeSignal(Predicted, days, Action1, Action2, current_status):\n",
    "    # Loop over 1 to N\n",
    "    for i in range(1, len(Predicted)):\n",
    "        # When model predicts no action..\n",
    "        if(Predicted[i] == 0):\n",
    "            if(current_status[i-1] != 0):\n",
    "                days, Action1, Action2, current_status = Action_ZE_NZE(days, Action1, Action2, current_status, i)\n",
    "            else:\n",
    "                days, Action1, Action2, current_status = Action_SA_SA(days, Action1, Action2, current_status, i)\n",
    "        # When Model predicts sell\n",
    "        elif(Predicted[i] == -1):\n",
    "            if(current_status[i-1] == -1):\n",
    "                days, Action1, Action2, current_status = Action_SA_SA(days, Action1, Action2, current_status, i)\n",
    "            elif(current_status[i-1] == 0):\n",
    "                days, Action1, Action2, current_status = Action_NZE_ZE(days, Action1, Action2, current_status, Predicted,\n",
    "                                                                       i)\n",
    "            else:\n",
    "                days, Action1, Action2, current_status = Action_NZE_NZE(days, Action1, Action2, current_status, Predicted,\n",
    "                                                                        i)\n",
    "        # When model predicts Buy\n",
    "        elif(Predicted[i] == 1):\n",
    "            if(current_status[i-1] == 1):\n",
    "                days, Action1, Action2, current_status = Action_SA_SA(days, Action1, Action2, current_status, i)\n",
    "            elif(current_status[i-1] == 0):\n",
    "                days, Action1, Action2, current_status = Action_NZE_ZE(days, Action1, Action2, current_status, Predicted,\n",
    "                                                                       i)\n",
    "            else:\n",
    "                days, Action1, Action2, current_status = Action_NZE_NZE(days, Action1, Action2, current_status, Predicted,\n",
    "                                                                        i)\n",
    "    return days, Action1, Action2, current_status"
   ]
  },
  {
   "cell_type": "code",
   "execution_count": 22,
   "metadata": {},
   "outputs": [],
   "source": [
    "def Get_FinancialSignal(Open_price, Action1, Action2, Money, Shares, Close_price):\n",
    "    for i in range(1, len(Open_price)):\n",
    "        if(Action1[i] == 0):\n",
    "            Money.append(Money[i-1])\n",
    "            Shares.append(Shares[i-1])\n",
    "        else:\n",
    "            if(Action2[i] == 0):\n",
    "                # Enter new position\n",
    "                if(Shares[i-1] == 0):\n",
    "                    Shares.append(Action1[i] * (Money[i-1]/Open_price[i]))\n",
    "                    Money.append(Money[i-1] - Action1[i] * Money[i-1])\n",
    "                # Exit the current position\n",
    "                else:\n",
    "                    Shares.append(0)\n",
    "                    Money.append(Money[i-1] - Action1[i] * np.abs(Shares[i-1]) * Open_price[i])\n",
    "            else:\n",
    "                Money.append(Money[i-1] -1 *Action1[i] *np.abs(Shares[i-1]) * Open_price[i])\n",
    "                Shares.append(Action2[i] * (Money[i]/Open_price[i]))\n",
    "                Money[i] = Money[i] - 1 * Action2[i] * np.abs(Shares[i]) * Open_price[i]\n",
    "    return Money, Shares"
   ]
  },
  {
   "cell_type": "code",
   "execution_count": 23,
   "metadata": {},
   "outputs": [],
   "source": [
    "def Get_TradeData(df):\n",
    "    # Initialize the variables\n",
    "    days,Action1,Action2,current_status,Predicted,Money,Shares,Open_price,Close_price = initialize(df)\n",
    "    # Get Buy/Sell trade signal\n",
    "    days, Action1, Action2, current_status = Get_TradeSignal(Predicted, days, Action1, Action2, current_status)\n",
    "    Money, Shares = Get_FinancialSignal(Open_price, Action1, Action2, Money, Shares, Close_price)\n",
    "    df = get_df(df, Action1, Action2, days, current_status, Money, Shares)\n",
    "    df['CurrentVal'] = df['Money'] + df['current_status'] * np.abs(df['Shares']) * df['Adj Close']\n",
    "    return df"
   ]
  },
  {
   "cell_type": "code",
   "execution_count": 24,
   "metadata": {},
   "outputs": [],
   "source": [
    "def Print_Fromated_PL(active_days, number_of_trades, drawdown, annual_returns, std_dev, sharpe_ratio, year):\n",
    "    \"\"\"\n",
    "        Prints the metrics\n",
    "    \"\"\"\n",
    "    print(\"++++++++++++++++++++++++++++++++++++++++++++++++++++\")\n",
    "    print(\"                               Year: {0}\".format(year))\n",
    "    print(\"          Number of Trades Executed: {0}\".format(number_of_trades))\n",
    "    print(\"Number of days with Active Position: {}\".format(active_days))\n",
    "    print(\"                      Annual Return: {:.6f} %\".format(annual_returns*100))\n",
    "    print(\"                       Sharpe Ratio: {:.2f}\".format(sharpe_ratio))\n",
    "    print(\"     Maximum Drawdown (Daily basis): {:.2f} %\".format(drawdown*100))\n",
    "    print(\"----------------------------------------------------\")\n",
    "    return"
   ]
  },
  {
   "cell_type": "code",
   "execution_count": 25,
   "metadata": {},
   "outputs": [],
   "source": [
    "def Get_results_PL_metrics(df, Rf, year):\n",
    "    df['tmp'] = np.where(df['current_status'] == 0, 0, 1)\n",
    "    active_days = df['tmp'].sum()\n",
    "    number_of_trades = np.abs(df['Action1']).sum()+np.abs(df['Action2']).sum()\n",
    "    df['tmp_max'] = df['CurrentVal'].rolling(window=20).max()\n",
    "    df['tmp_min'] = df['CurrentVal'].rolling(window=20).min()\n",
    "    df['tmp'] = np.where(df['tmp_max'] > 0, (df['tmp_max'] - df['tmp_min'])/df['tmp_max'], 0)\n",
    "    drawdown = df['tmp'].max()\n",
    "    annual_returns = (df['CurrentVal'].iloc[-1]/100 - 1)\n",
    "    std_dev = df['CurrentVal'].pct_change(1).std()\n",
    "    sharpe_ratio = (annual_returns - Rf)/std_dev\n",
    "    Print_Fromated_PL(active_days, number_of_trades, drawdown, annual_returns, std_dev, sharpe_ratio, year)\n",
    "    return "
   ]
  },
  {
   "cell_type": "markdown",
   "metadata": {},
   "source": [
    "         "
   ]
  },
  {
   "cell_type": "markdown",
   "metadata": {},
   "source": [
    "      "
   ]
  },
  {
   "cell_type": "code",
   "execution_count": 26,
   "metadata": {},
   "outputs": [],
   "source": [
    "# Change to Images directory\n",
    "os.chdir(\"..\")\n",
    "os.chdir(str(os.getcwd()) + \"\\\\Images\")"
   ]
  },
  {
   "cell_type": "markdown",
   "metadata": {},
   "source": [
    "## <span style=\"color:Maroon\">Whole Dataset"
   ]
  },
  {
   "cell_type": "code",
   "execution_count": 27,
   "metadata": {},
   "outputs": [],
   "source": [
    "df_whole_train = df_whole[df_whole[\"Sample\"] == \"Train\"]\n",
    "df_whole_test = df_whole[df_whole[\"Sample\"] == \"Test\"]\n",
    "df_whole_test_2019 = df_whole_test[df_whole_test.index.year == 2019]\n",
    "df_whole_test_2020 = df_whole_test[df_whole_test.index.year == 2020]"
   ]
  },
  {
   "cell_type": "code",
   "execution_count": 28,
   "metadata": {},
   "outputs": [],
   "source": [
    "output_train_whole = Get_TradeData(df_whole_train)\n",
    "output_test_whole = Get_TradeData(df_whole_test)\n",
    "output_test_whole_2019 = Get_TradeData(df_whole_test_2019)\n",
    "output_test_whole_2020 = Get_TradeData(df_whole_test_2020)\n",
    "output_train_whole[\"BuyandHold\"] = (100 * output_train_whole[\"Adj Close\"])/(output_train_whole.iloc[0][\"Adj Close\"])\n",
    "output_test_whole[\"BuyandHold\"] = (100*output_test_whole[\"Adj Close\"])/(output_test_whole.iloc[0][\"Adj Close\"])\n",
    "output_test_whole_2019[\"BuyandHold\"] = (100 * output_test_whole_2019[\"Adj Close\"])/(output_test_whole_2019.iloc[0]\n",
    "                                                                                    [\"Adj Close\"])\n",
    "output_test_whole_2020[\"BuyandHold\"] = (100 * output_test_whole_2020[\"Adj Close\"])/(output_test_whole_2020.iloc[0]\n",
    "                                                                                    [\"Adj Close\"])"
   ]
  },
  {
   "cell_type": "code",
   "execution_count": 29,
   "metadata": {},
   "outputs": [
    {
     "name": "stdout",
     "output_type": "stream",
     "text": [
      "++++++++++++++++++++++++++++++++++++++++++++++++++++\n",
      "                               Year: 2019\n",
      "          Number of Trades Executed: 36\n",
      "Number of days with Active Position: 131\n",
      "                      Annual Return: -17.072208 %\n",
      "                       Sharpe Ratio: -28.79\n",
      "     Maximum Drawdown (Daily basis): 9.07 %\n",
      "----------------------------------------------------\n"
     ]
    }
   ],
   "source": [
    "Get_results_PL_metrics(output_test_whole_2019, Rf, 2019)"
   ]
  },
  {
   "cell_type": "code",
   "execution_count": 30,
   "metadata": {},
   "outputs": [
    {
     "name": "stdout",
     "output_type": "stream",
     "text": [
      "++++++++++++++++++++++++++++++++++++++++++++++++++++\n",
      "                               Year: 2020\n",
      "          Number of Trades Executed: 35\n",
      "Number of days with Active Position: 159\n",
      "                      Annual Return: -48.623229 %\n",
      "                       Sharpe Ratio: -39.87\n",
      "     Maximum Drawdown (Daily basis): 14.36 %\n",
      "----------------------------------------------------\n"
     ]
    }
   ],
   "source": [
    "Get_results_PL_metrics(output_test_whole_2020, Rf, 2020)"
   ]
  },
  {
   "cell_type": "code",
   "execution_count": 31,
   "metadata": {},
   "outputs": [
    {
     "data": {
      "image/png": "[encoded data removed]",
      "text/plain": [
       "<Figure size 720x360 with 1 Axes>"
      ]
     },
     "metadata": {
      "needs_background": "light"
     },
     "output_type": "display_data"
    }
   ],
   "source": [
    "# Scatter plot to save fig\n",
    "plt.figure(figsize=(10,5))\n",
    "plt.plot(output_train_whole[\"CurrentVal\"], 'b-', label=\"Value (Model)\")\n",
    "plt.plot(output_train_whole[\"BuyandHold\"], 'r--', alpha=0.5, label=\"Buy and Hold\")\n",
    "plt.xlabel(\"Date\", fontsize=12)\n",
    "plt.ylabel(\"Value\", fontsize=12)\n",
    "plt.legend()\n",
    "plt.title(\"Train Sample \"+ str(index) + \" GBM Whole Dataset\", fontsize=16)\n",
    "plt.savefig(\"Train Sample Whole Dataset GBM Model\" + str(index) +'.png')\n",
    "plt.show()\n",
    "plt.close()"
   ]
  },
  {
   "cell_type": "code",
   "execution_count": 32,
   "metadata": {},
   "outputs": [
    {
     "data": {
      "image/png": "[encoded data removed]",
      "text/plain": [
       "<Figure size 720x360 with 1 Axes>"
      ]
     },
     "metadata": {
      "needs_background": "light"
     },
     "output_type": "display_data"
    }
   ],
   "source": [
    "# Scatter plot to save fig\n",
    "plt.figure(figsize=(10,5))\n",
    "plt.plot(output_test_whole[\"CurrentVal\"], 'b-', label=\"Value (Model)\")\n",
    "plt.plot(output_test_whole[\"BuyandHold\"], 'r--', alpha=0.5, label=\"Buy and Hold\")\n",
    "plt.xlabel(\"Date\", fontsize=12)\n",
    "plt.ylabel(\"Value\", fontsize=12)\n",
    "plt.legend()\n",
    "plt.title(\"Test Sample \"+ str(index) + \" GBM Whole Dataset\", fontsize=16)\n",
    "plt.savefig(\"Test Sample Whole Dataset GBM Model\" + str(index) +'.png')\n",
    "plt.show()\n",
    "plt.close()"
   ]
  },
  {
   "cell_type": "markdown",
   "metadata": {},
   "source": [
    "__Comments:__ <span style=\"color:Blue\"> Based on the performance of model on Train Sample, the model has definitely learnt the patter, instead of over-fitting. But the performance of model in Test Sample is very poor"
   ]
  },
  {
   "cell_type": "markdown",
   "metadata": {},
   "source": [
    "## <span style=\"color:Maroon\">Segment Model"
   ]
  },
  {
   "cell_type": "code",
   "execution_count": 33,
   "metadata": {},
   "outputs": [],
   "source": [
    "df_model_train = df_model[df_model[\"Sample\"] == \"Train\"]\n",
    "df_model_test = df_model[df_model[\"Sample\"] == \"Test\"]\n",
    "df_model_test_2019 = df_model_test[df_model_test.index.year == 2019]\n",
    "df_model_test_2020 = df_model_test[df_model_test.index.year == 2020]"
   ]
  },
  {
   "cell_type": "code",
   "execution_count": 34,
   "metadata": {},
   "outputs": [],
   "source": [
    "output_train_model = Get_TradeData(df_model_train)\n",
    "output_test_model = Get_TradeData(df_model_test)\n",
    "output_test_model_2019 = Get_TradeData(df_model_test_2019)\n",
    "output_test_model_2020 = Get_TradeData(df_model_test_2020)\n",
    "output_train_model[\"BuyandHold\"] = (100 * output_train_model[\"Adj Close\"])/(output_train_model.iloc[0][\"Adj Close\"])\n",
    "output_test_model[\"BuyandHold\"] = (100 * output_test_model[\"Adj Close\"])/(output_test_model.iloc[0][\"Adj Close\"])\n",
    "output_test_model_2019[\"BuyandHold\"] = (100 * output_test_model_2019[\"Adj Close\"])/(output_test_model_2019.iloc[0]\n",
    "                                                                                    [\"Adj Close\"])\n",
    "output_test_model_2020[\"BuyandHold\"] = (100 * output_test_model_2020[\"Adj Close\"])/(output_test_model_2020.iloc[0]\n",
    "                                                                                    [\"Adj Close\"])"
   ]
  },
  {
   "cell_type": "code",
   "execution_count": 35,
   "metadata": {},
   "outputs": [
    {
     "name": "stdout",
     "output_type": "stream",
     "text": [
      "++++++++++++++++++++++++++++++++++++++++++++++++++++\n",
      "                               Year: 2019\n",
      "          Number of Trades Executed: 36\n",
      "Number of days with Active Position: 113\n",
      "                      Annual Return: -7.876123 %\n",
      "                       Sharpe Ratio: -15.35\n",
      "     Maximum Drawdown (Daily basis): 9.07 %\n",
      "----------------------------------------------------\n"
     ]
    }
   ],
   "source": [
    "Get_results_PL_metrics(output_test_model_2019, Rf, 2019)"
   ]
  },
  {
   "cell_type": "code",
   "execution_count": 36,
   "metadata": {},
   "outputs": [
    {
     "name": "stdout",
     "output_type": "stream",
     "text": [
      "++++++++++++++++++++++++++++++++++++++++++++++++++++\n",
      "                               Year: 2020\n",
      "          Number of Trades Executed: 41\n",
      "Number of days with Active Position: 110\n",
      "                      Annual Return: -20.043682 %\n",
      "                       Sharpe Ratio: -18.02\n",
      "     Maximum Drawdown (Daily basis): 19.24 %\n",
      "----------------------------------------------------\n"
     ]
    }
   ],
   "source": [
    "Get_results_PL_metrics(output_test_model_2020, Rf, 2020)"
   ]
  },
  {
   "cell_type": "code",
   "execution_count": 37,
   "metadata": {},
   "outputs": [
    {
     "data": {
      "image/png": "[encoded data removed]",
      "text/plain": [
       "<Figure size 720x360 with 1 Axes>"
      ]
     },
     "metadata": {
      "needs_background": "light"
     },
     "output_type": "display_data"
    }
   ],
   "source": [
    "# Scatter plot to save fig\n",
    "plt.figure(figsize=(10,5))\n",
    "plt.plot(output_train_model[\"CurrentVal\"], 'b-', label=\"Value (Model)\")\n",
    "plt.plot(output_train_model[\"BuyandHold\"], 'r--', alpha=0.5, label=\"Buy and Hold\")\n",
    "plt.xlabel(\"Date\", fontsize=12)\n",
    "plt.ylabel(\"Value\", fontsize=12)\n",
    "plt.legend()\n",
    "plt.title(\"Train Sample Hurst Segment GBM Models \"+ str(index), fontsize=16)\n",
    "plt.savefig(\"Train Sample Hurst Segment GBM Models\" + str(index) +'.png')\n",
    "plt.show()\n",
    "plt.close()"
   ]
  },
  {
   "cell_type": "code",
   "execution_count": 38,
   "metadata": {},
   "outputs": [
    {
     "data": {
      "image/png": "[encoded data removed]",
      "text/plain": [
       "<Figure size 720x360 with 1 Axes>"
      ]
     },
     "metadata": {
      "needs_background": "light"
     },
     "output_type": "display_data"
    }
   ],
   "source": [
    "# Scatter plot to save fig\n",
    "plt.figure(figsize=(10,5))\n",
    "plt.plot(output_test_model[\"CurrentVal\"], 'b-', label=\"Value (Model)\")\n",
    "plt.plot(output_test_model[\"BuyandHold\"], 'r--', alpha=0.5, label=\"Buy and Hold\")\n",
    "plt.xlabel(\"Date\", fontsize=12)\n",
    "plt.ylabel(\"Value\", fontsize=12)\n",
    "plt.legend()\n",
    "plt.title(\"Test Sample Hurst Segment GBM Models\" + str(index), fontsize=16)\n",
    "plt.savefig(\"Test Sample Hurst Segment GBM Models\" + str(index) +'.png')\n",
    "plt.show()\n",
    "plt.close()"
   ]
  },
  {
   "cell_type": "markdown",
   "metadata": {},
   "source": [
    "__Comments:__ <span style=\"color:Blue\"> Based on the performance of model on Train Sample, the model has definitely learnt the patter, instead of over-fitting. The model does perform well in Test sample (Not compared to Buy and Hold strategy) compared to single model. Hurst Exponent based segmentation has definately added value to the model"
   ]
  },
  {
   "cell_type": "markdown",
   "metadata": {},
   "source": [
    "      "
   ]
  },
  {
   "cell_type": "markdown",
   "metadata": {},
   "source": [
    "      "
   ]
  }
 ],
 "metadata": {
  "kernelspec": {
   "display_name": "Python 3",
   "language": "python",
   "name": "python3"
  },
  "language_info": {
   "codemirror_mode": {
    "name": "ipython",
    "version": 3
   },
   "file_extension": ".py",
   "mimetype": "text/x-python",
   "name": "python",
   "nbconvert_exporter": "python",
   "pygments_lexer": "ipython3",
   "version": "3.7.6"
  }
 },
 "nbformat": 4,
 "nbformat_minor": 4
}
