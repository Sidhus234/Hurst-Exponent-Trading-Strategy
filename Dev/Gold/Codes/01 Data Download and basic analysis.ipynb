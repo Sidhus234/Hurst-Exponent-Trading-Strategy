{
 "cells": [
  {
   "cell_type": "markdown",
   "metadata": {},
   "source": [
    "# <span style=\"color:Maroon\">Data Gathering and Basic Analysis"
   ]
  },
  {
   "cell_type": "markdown",
   "metadata": {},
   "source": [
    "<span style=\"color:Blue\">__Summary:__ In this file we shall download the data from Yahoo Finance and carry out basic analysis on it. "
   ]
  },
  {
   "cell_type": "code",
   "execution_count": 1,
   "metadata": {},
   "outputs": [],
   "source": [
    "# Import required libraries\n",
    "import warnings\n",
    "warnings.filterwarnings('ignore')\n",
    "from pandas_datareader import data\n",
    "import pandas as pd\n",
    "import numpy as np\n",
    "import matplotlib.pyplot as plt\n",
    "import yfinance as yf\n",
    "from scipy.stats import norm\n",
    "import os\n",
    "np.random.seed(0)"
   ]
  },
  {
   "cell_type": "code",
   "execution_count": 2,
   "metadata": {},
   "outputs": [],
   "source": [
    "# User defined names\n",
    "index = \"Gold\"\n",
    "ticker = \"GLD\"\n",
    "# Define the date range\n",
    "start_date = '2011-01-01'\n",
    "end_date = '2020-12-31'"
   ]
  },
  {
   "cell_type": "code",
   "execution_count": 3,
   "metadata": {},
   "outputs": [
    {
     "name": "stdout",
     "output_type": "stream",
     "text": [
      "C:\\Users\\sidhu\\Downloads\\Course 10 Capstone Project\\Trading Strategy Development\\Dev\\Gold\\Codes\n"
     ]
    }
   ],
   "source": [
    "# Get current working directory\n",
    "mycwd = os.getcwd()\n",
    "print(mycwd)"
   ]
  },
  {
   "cell_type": "code",
   "execution_count": 4,
   "metadata": {},
   "outputs": [],
   "source": [
    "# Change to data directory\n",
    "os.chdir(\"..\")\n",
    "os.chdir(str(os.getcwd()) + \"\\\\Data\")"
   ]
  },
  {
   "cell_type": "markdown",
   "metadata": {},
   "source": [
    "        "
   ]
  },
  {
   "cell_type": "markdown",
   "metadata": {},
   "source": [
    "## <span style=\"color:Maroon\">Functions"
   ]
  },
  {
   "cell_type": "code",
   "execution_count": 5,
   "metadata": {},
   "outputs": [],
   "source": [
    "# Function to get Adjusted close price of the stock\n",
    "def Get_AdjClosed_Price(ticker, start_date, end_date):\n",
    "    \"\"\"\n",
    "        Returns a pandas dataframe with adjusted close price\n",
    "    \"\"\"\n",
    "    df = data.DataReader(ticker, 'yahoo', start_date, end_date)\n",
    "    return df"
   ]
  },
  {
   "cell_type": "code",
   "execution_count": 6,
   "metadata": {},
   "outputs": [],
   "source": [
    "def Get_LogReturn(df, var_in, var_out):\n",
    "    \"\"\"\n",
    "        Calculates the log returns\n",
    "    \"\"\"\n",
    "    df[var_out] = np.log(df[var_in]).diff()\n",
    "    return df"
   ]
  },
  {
   "cell_type": "code",
   "execution_count": 7,
   "metadata": {},
   "outputs": [],
   "source": [
    "def Print_Fromated_metrics(df, stock, var):\n",
    "    \"\"\"\n",
    "        Prints the below values for the given variable:\n",
    "            1. Mean\n",
    "            2. Standard Deviation\n",
    "            3. Skewness\n",
    "            4. Kurtosis\n",
    "            4. Excess Kurtosis\n",
    "    \"\"\"\n",
    "    print(\"++++++++++++++++++++++++++++++++\")\n",
    "    print(\"             Stock: {0}\".format(stock))\n",
    "    print(\"              Mean: {:.6f}\".format(df[var].mean()))\n",
    "    print(\"Standard Deviation: {:.6f}\".format(df[var].std()))\n",
    "    print(\"          Skewness: {:.6f}\".format(df[var].skew()))\n",
    "    print(\"          Kurtosis: {:.6F}\".format(df[var].kurtosis()))\n",
    "    print(\"   Excess Kurtosis: {:.6f}\".format(df[var].kurtosis()-3))\n",
    "    print(\"++++++++++++++++++++++++++++++++\")\n",
    "    return"
   ]
  },
  {
   "cell_type": "markdown",
   "metadata": {},
   "source": [
    "        "
   ]
  },
  {
   "cell_type": "markdown",
   "metadata": {},
   "source": [
    "      "
   ]
  },
  {
   "cell_type": "markdown",
   "metadata": {},
   "source": [
    "## <span style=\"color:Maroon\">Download the Data"
   ]
  },
  {
   "cell_type": "code",
   "execution_count": 8,
   "metadata": {},
   "outputs": [],
   "source": [
    "# Download S&P500, and NIFTY Data for the given date range\n",
    "df = Get_AdjClosed_Price(ticker, start_date, end_date)"
   ]
  },
  {
   "cell_type": "code",
   "execution_count": 9,
   "metadata": {},
   "outputs": [],
   "source": [
    "# Calculate log returns\n",
    "df = Get_LogReturn(df, 'Adj Close', 'log returns')"
   ]
  },
  {
   "cell_type": "code",
   "execution_count": 10,
   "metadata": {},
   "outputs": [
    {
     "data": {
      "text/html": [
       "<div>\n",
       "<style scoped>\n",
       "    .dataframe tbody tr th:only-of-type {\n",
       "        vertical-align: middle;\n",
       "    }\n",
       "\n",
       "    .dataframe tbody tr th {\n",
       "        vertical-align: top;\n",
       "    }\n",
       "\n",
       "    .dataframe thead th {\n",
       "        text-align: right;\n",
       "    }\n",
       "</style>\n",
       "<table border=\"1\" class=\"dataframe\">\n",
       "  <thead>\n",
       "    <tr style=\"text-align: right;\">\n",
       "      <th></th>\n",
       "      <th>High</th>\n",
       "      <th>Low</th>\n",
       "      <th>Open</th>\n",
       "      <th>Close</th>\n",
       "      <th>Volume</th>\n",
       "      <th>Adj Close</th>\n",
       "      <th>log returns</th>\n",
       "    </tr>\n",
       "    <tr>\n",
       "      <th>Date</th>\n",
       "      <th></th>\n",
       "      <th></th>\n",
       "      <th></th>\n",
       "      <th></th>\n",
       "      <th></th>\n",
       "      <th></th>\n",
       "      <th></th>\n",
       "    </tr>\n",
       "  </thead>\n",
       "  <tbody>\n",
       "    <tr>\n",
       "      <th>2010-12-31</th>\n",
       "      <td>138.770004</td>\n",
       "      <td>137.720001</td>\n",
       "      <td>137.779999</td>\n",
       "      <td>138.720001</td>\n",
       "      <td>9219800</td>\n",
       "      <td>138.720001</td>\n",
       "      <td>NaN</td>\n",
       "    </tr>\n",
       "    <tr>\n",
       "      <th>2011-01-03</th>\n",
       "      <td>139.000000</td>\n",
       "      <td>137.880005</td>\n",
       "      <td>138.669998</td>\n",
       "      <td>138.000000</td>\n",
       "      <td>11510200</td>\n",
       "      <td>138.000000</td>\n",
       "      <td>-0.005204</td>\n",
       "    </tr>\n",
       "    <tr>\n",
       "      <th>2011-01-04</th>\n",
       "      <td>136.279999</td>\n",
       "      <td>134.160004</td>\n",
       "      <td>136.240005</td>\n",
       "      <td>134.750000</td>\n",
       "      <td>26154300</td>\n",
       "      <td>134.750000</td>\n",
       "      <td>-0.023832</td>\n",
       "    </tr>\n",
       "    <tr>\n",
       "      <th>2011-01-05</th>\n",
       "      <td>134.679993</td>\n",
       "      <td>133.100006</td>\n",
       "      <td>133.500000</td>\n",
       "      <td>134.369995</td>\n",
       "      <td>16700900</td>\n",
       "      <td>134.369995</td>\n",
       "      <td>-0.002824</td>\n",
       "    </tr>\n",
       "    <tr>\n",
       "      <th>2011-01-06</th>\n",
       "      <td>134.380005</td>\n",
       "      <td>133.139999</td>\n",
       "      <td>134.050003</td>\n",
       "      <td>133.830002</td>\n",
       "      <td>15965300</td>\n",
       "      <td>133.830002</td>\n",
       "      <td>-0.004027</td>\n",
       "    </tr>\n",
       "  </tbody>\n",
       "</table>\n",
       "</div>"
      ],
      "text/plain": [
       "                  High         Low        Open       Close    Volume  \\\n",
       "Date                                                                   \n",
       "2010-12-31  138.770004  137.720001  137.779999  138.720001   9219800   \n",
       "2011-01-03  139.000000  137.880005  138.669998  138.000000  11510200   \n",
       "2011-01-04  136.279999  134.160004  136.240005  134.750000  26154300   \n",
       "2011-01-05  134.679993  133.100006  133.500000  134.369995  16700900   \n",
       "2011-01-06  134.380005  133.139999  134.050003  133.830002  15965300   \n",
       "\n",
       "             Adj Close  log returns  \n",
       "Date                                 \n",
       "2010-12-31  138.720001          NaN  \n",
       "2011-01-03  138.000000    -0.005204  \n",
       "2011-01-04  134.750000    -0.023832  \n",
       "2011-01-05  134.369995    -0.002824  \n",
       "2011-01-06  133.830002    -0.004027  "
      ]
     },
     "execution_count": 10,
     "metadata": {},
     "output_type": "execute_result"
    }
   ],
   "source": [
    "# Head of data\n",
    "df.head()"
   ]
  },
  {
   "cell_type": "markdown",
   "metadata": {},
   "source": [
    "          "
   ]
  },
  {
   "cell_type": "markdown",
   "metadata": {},
   "source": [
    "         "
   ]
  },
  {
   "cell_type": "markdown",
   "metadata": {},
   "source": [
    "## <span style=\"color:Maroon\">Basic Exploratary Analysis"
   ]
  },
  {
   "cell_type": "code",
   "execution_count": 11,
   "metadata": {},
   "outputs": [],
   "source": [
    "# Change to Images directory\n",
    "os.chdir(\"..\")\n",
    "os.chdir(str(os.getcwd()) + \"\\\\Images\")"
   ]
  },
  {
   "cell_type": "markdown",
   "metadata": {},
   "source": [
    "### <span style=\"color:Maroon\">Histogram of Returns"
   ]
  },
  {
   "cell_type": "code",
   "execution_count": 12,
   "metadata": {},
   "outputs": [
    {
     "data": {
      "image/png": "[encoded data removed]",
      "text/plain": [
       "<Figure size 720x360 with 1 Axes>"
      ]
     },
     "metadata": {
      "needs_background": "light"
     },
     "output_type": "display_data"
    }
   ],
   "source": [
    "# Fit a normal distribution to the data:\n",
    "mu, std = norm.fit(df['log returns'].dropna())\n",
    "# Histogram for log returns\n",
    "plt.figure(figsize=(10,5))\n",
    "plt.hist(df['log returns'].dropna(), bins=100, density=True, facecolor='b', alpha=0.5)\n",
    "# Plot the PDF\n",
    "xmin, xmax = plt.xlim()\n",
    "x = np.linspace(xmin, xmax, 100)\n",
    "p = norm.pdf(x, mu, std)\n",
    "plt.plot(x, p, 'k', linewidth=2)\n",
    "title = \"Index {}: mu = {:+.4f},  std = {:+.4f}\".format(index, mu, std)\n",
    "plt.title(title, fontsize=16)\n",
    "plt.xlabel(\"Daily Log Returns\", fontsize=12)\n",
    "plt.ylabel(\"Probability\", fontsize=12)\n",
    "plt.grid()\n",
    "plt.savefig('histogram of returns ' + str(index) +'.png')\n",
    "plt.show()\n",
    "plt.close()"
   ]
  },
  {
   "cell_type": "markdown",
   "metadata": {},
   "source": [
    "__Comments:__ <span style=\"color:Blue\"> Based on above plot, we can conclude that the log returns are not normally distributed"
   ]
  },
  {
   "cell_type": "markdown",
   "metadata": {},
   "source": [
    "       "
   ]
  },
  {
   "cell_type": "markdown",
   "metadata": {},
   "source": [
    "### <span style=\"color:Maroon\">Time Series Plot of Returns"
   ]
  },
  {
   "cell_type": "code",
   "execution_count": 13,
   "metadata": {},
   "outputs": [],
   "source": [
    "plt.figure(figsize=(10,5))\n",
    "plt.plot(df['log returns'], alpha=0.5)\n",
    "plt.title('{} Log Returns'.format(index), fontsize=16)\n",
    "plt.xlabel('Date', fontsize=12)\n",
    "plt.grid()\n",
    "plt.savefig('Time series of returns ' + str(index) +'.png')\n",
    "plt.close()"
   ]
  },
  {
   "cell_type": "code",
   "execution_count": 14,
   "metadata": {
    "scrolled": true
   },
   "outputs": [
    {
     "data": {
      "image/png": "[encoded data removed]",
      "text/plain": [
       "<Figure size 720x360 with 1 Axes>"
      ]
     },
     "metadata": {
      "needs_background": "light"
     },
     "output_type": "display_data"
    }
   ],
   "source": [
    "plt.figure(figsize=(10,5))\n",
    "plt.plot(df['log returns'], alpha=0.5)\n",
    "plt.title('{} Log Returns'.format(index), fontsize=16)\n",
    "plt.xlabel('Date', fontsize=12)\n",
    "plt.grid()\n",
    "plt.show()"
   ]
  },
  {
   "cell_type": "markdown",
   "metadata": {},
   "source": [
    "__Comments:__ <span style=\"color:Blue\"> There are certain period of high volatility (Jun, 2011 to Dec, 2011, Feb 2020 to April, 2020)"
   ]
  },
  {
   "cell_type": "markdown",
   "metadata": {},
   "source": [
    "        "
   ]
  },
  {
   "cell_type": "markdown",
   "metadata": {},
   "source": [
    "### <span style=\"color:Maroon\">Volume Plot"
   ]
  },
  {
   "cell_type": "code",
   "execution_count": 15,
   "metadata": {},
   "outputs": [
    {
     "data": {
      "image/png": "[encoded data removed]",
      "text/plain": [
       "<Figure size 720x360 with 1 Axes>"
      ]
     },
     "metadata": {
      "needs_background": "light"
     },
     "output_type": "display_data"
    }
   ],
   "source": [
    "# Volume Plot at Weekly Level\n",
    "# Resample the data at weekly level\n",
    "df_weekly =df.resample('W').mean()\n",
    "\n",
    "plt.figure(figsize=(10,5))\n",
    "plt.plot(df_weekly['Volume'], 'b-', alpha=0.5)\n",
    "plt.xlabel(\"Date\", fontsize=12)\n",
    "plt.ylabel(\"Volume\", fontsize=12)\n",
    "plt.title(\"{} Average Weekly Volume\".format(index), fontsize=16)\n",
    "plt.grid()\n",
    "plt.savefig('Weekly Volume Plot ' + str(index) +'.png')\n",
    "plt.show()\n",
    "plt.close()"
   ]
  },
  {
   "cell_type": "markdown",
   "metadata": {},
   "source": [
    "__Comments:__ <span style=\"color:Blue\"> COVID had a big impact on volume of the Index, and it is reflected in above chart after Feb-Mar, 2020"
   ]
  },
  {
   "cell_type": "markdown",
   "metadata": {},
   "source": [
    "        "
   ]
  },
  {
   "cell_type": "markdown",
   "metadata": {},
   "source": [
    "### <span style=\"color:Maroon\">Basic Statistics for Log Returns"
   ]
  },
  {
   "cell_type": "code",
   "execution_count": 16,
   "metadata": {},
   "outputs": [
    {
     "name": "stdout",
     "output_type": "stream",
     "text": [
      "++++++++++++++++++++++++++++++++\n",
      "             Stock: Gold\n",
      "              Mean: 0.000100\n",
      "Standard Deviation: 0.009998\n",
      "          Skewness: -0.591505\n",
      "          Kurtosis: 6.076807\n",
      "   Excess Kurtosis: 3.076807\n",
      "++++++++++++++++++++++++++++++++\n"
     ]
    }
   ],
   "source": [
    "# Get basic statistics for log returns\n",
    "Print_Fromated_metrics(df, index, 'log returns')"
   ]
  },
  {
   "cell_type": "markdown",
   "metadata": {},
   "source": [
    "       "
   ]
  },
  {
   "cell_type": "markdown",
   "metadata": {},
   "source": [
    "## <span style=\"color:Maroon\">Save the Data"
   ]
  },
  {
   "cell_type": "code",
   "execution_count": 17,
   "metadata": {},
   "outputs": [],
   "source": [
    "os.chdir(\"..\")\n",
    "os.chdir(str(os.getcwd()) + \"\\\\Data\")\n",
    "df.drop(\"log returns\", axis=1, inplace=True)\n",
    "df.to_csv(index +\".csv\", index=True)"
   ]
  },
  {
   "cell_type": "markdown",
   "metadata": {},
   "source": [
    "         "
   ]
  }
 ],
 "metadata": {
  "kernelspec": {
   "display_name": "Python 3",
   "language": "python",
   "name": "python3"
  },
  "language_info": {
   "codemirror_mode": {
    "name": "ipython",
    "version": 3
   },
   "file_extension": ".py",
   "mimetype": "text/x-python",
   "name": "python",
   "nbconvert_exporter": "python",
   "pygments_lexer": "ipython3",
   "version": "3.7.6"
  }
 },
 "nbformat": 4,
 "nbformat_minor": 4
}
