{
 "cells": [
  {
   "cell_type": "markdown",
   "metadata": {},
   "source": [
    "# <span style=\"color:Maroon\">Data Gathering and Basic Analysis"
   ]
  },
  {
   "cell_type": "markdown",
   "metadata": {},
   "source": [
    "<span style=\"color:Blue\">__Summary:__ In this file we shall download the data from Yahoo Finance and carry out basic analysis on it. "
   ]
  },
  {
   "cell_type": "code",
   "execution_count": 1,
   "metadata": {},
   "outputs": [],
   "source": [
    "# Import required libraries\n",
    "import warnings\n",
    "warnings.filterwarnings('ignore')\n",
    "from pandas_datareader import data\n",
    "import pandas as pd\n",
    "import numpy as np\n",
    "import matplotlib.pyplot as plt\n",
    "import yfinance as yf\n",
    "from scipy.stats import norm\n",
    "import os\n",
    "np.random.seed(0)"
   ]
  },
  {
   "cell_type": "code",
   "execution_count": 2,
   "metadata": {},
   "outputs": [],
   "source": [
    "# User defined names\n",
    "index = \"BTC-USD\"\n",
    "ticker = \"BTC-USD\"\n",
    "# Define the date range\n",
    "start_date = '2011-01-01'\n",
    "end_date = '2020-12-31'"
   ]
  },
  {
   "cell_type": "code",
   "execution_count": 3,
   "metadata": {},
   "outputs": [
    {
     "name": "stdout",
     "output_type": "stream",
     "text": [
      "C:\\Users\\sidhu\\Downloads\\Course 10 Capstone Project\\Trading Strategy Development\\Dev\\BTC-USD\\Codes\n"
     ]
    }
   ],
   "source": [
    "# Get current working directory\n",
    "mycwd = os.getcwd()\n",
    "print(mycwd)"
   ]
  },
  {
   "cell_type": "code",
   "execution_count": 4,
   "metadata": {},
   "outputs": [],
   "source": [
    "# Change to data directory\n",
    "os.chdir(\"..\")\n",
    "os.chdir(str(os.getcwd()) + \"\\\\Data\")"
   ]
  },
  {
   "cell_type": "markdown",
   "metadata": {},
   "source": [
    "        "
   ]
  },
  {
   "cell_type": "markdown",
   "metadata": {},
   "source": [
    "## <span style=\"color:Maroon\">Functions"
   ]
  },
  {
   "cell_type": "code",
   "execution_count": 5,
   "metadata": {},
   "outputs": [],
   "source": [
    "# Function to get Adjusted close price of the stock\n",
    "def Get_AdjClosed_Price(ticker, start_date, end_date):\n",
    "    \"\"\"\n",
    "        Returns a pandas dataframe with adjusted close price\n",
    "    \"\"\"\n",
    "    df = data.DataReader(ticker, 'yahoo', start_date, end_date)\n",
    "    return df"
   ]
  },
  {
   "cell_type": "code",
   "execution_count": 6,
   "metadata": {},
   "outputs": [],
   "source": [
    "def Get_LogReturn(df, var_in, var_out):\n",
    "    \"\"\"\n",
    "        Calculates the log returns\n",
    "    \"\"\"\n",
    "    df[var_out] = np.log(df[var_in]).diff()\n",
    "    return df"
   ]
  },
  {
   "cell_type": "code",
   "execution_count": 7,
   "metadata": {},
   "outputs": [],
   "source": [
    "def Print_Fromated_metrics(df, stock, var):\n",
    "    \"\"\"\n",
    "        Prints the below values for the given variable:\n",
    "            1. Mean\n",
    "            2. Standard Deviation\n",
    "            3. Skewness\n",
    "            4. Kurtosis\n",
    "            4. Excess Kurtosis\n",
    "    \"\"\"\n",
    "    print(\"++++++++++++++++++++++++++++++++\")\n",
    "    print(\"             Stock: {0}\".format(stock))\n",
    "    print(\"              Mean: {:.6f}\".format(df[var].mean()))\n",
    "    print(\"Standard Deviation: {:.6f}\".format(df[var].std()))\n",
    "    print(\"          Skewness: {:.6f}\".format(df[var].skew()))\n",
    "    print(\"          Kurtosis: {:.6F}\".format(df[var].kurtosis()))\n",
    "    print(\"   Excess Kurtosis: {:.6f}\".format(df[var].kurtosis()-3))\n",
    "    print(\"++++++++++++++++++++++++++++++++\")\n",
    "    return"
   ]
  },
  {
   "cell_type": "markdown",
   "metadata": {},
   "source": [
    "        "
   ]
  },
  {
   "cell_type": "markdown",
   "metadata": {},
   "source": [
    "      "
   ]
  },
  {
   "cell_type": "markdown",
   "metadata": {},
   "source": [
    "## <span style=\"color:Maroon\">Download the Data"
   ]
  },
  {
   "cell_type": "code",
   "execution_count": 8,
   "metadata": {},
   "outputs": [],
   "source": [
    "# Download S&P500, and NIFTY Data for the given date range\n",
    "df = Get_AdjClosed_Price(ticker, start_date, end_date)"
   ]
  },
  {
   "cell_type": "code",
   "execution_count": 9,
   "metadata": {},
   "outputs": [],
   "source": [
    "# Calculate log returns\n",
    "df = Get_LogReturn(df, 'Adj Close', 'log returns')"
   ]
  },
  {
   "cell_type": "code",
   "execution_count": 10,
   "metadata": {},
   "outputs": [
    {
     "data": {
      "text/html": [
       "<div>\n",
       "<style scoped>\n",
       "    .dataframe tbody tr th:only-of-type {\n",
       "        vertical-align: middle;\n",
       "    }\n",
       "\n",
       "    .dataframe tbody tr th {\n",
       "        vertical-align: top;\n",
       "    }\n",
       "\n",
       "    .dataframe thead th {\n",
       "        text-align: right;\n",
       "    }\n",
       "</style>\n",
       "<table border=\"1\" class=\"dataframe\">\n",
       "  <thead>\n",
       "    <tr style=\"text-align: right;\">\n",
       "      <th></th>\n",
       "      <th>High</th>\n",
       "      <th>Low</th>\n",
       "      <th>Open</th>\n",
       "      <th>Close</th>\n",
       "      <th>Volume</th>\n",
       "      <th>Adj Close</th>\n",
       "      <th>log returns</th>\n",
       "    </tr>\n",
       "    <tr>\n",
       "      <th>Date</th>\n",
       "      <th></th>\n",
       "      <th></th>\n",
       "      <th></th>\n",
       "      <th></th>\n",
       "      <th></th>\n",
       "      <th></th>\n",
       "      <th></th>\n",
       "    </tr>\n",
       "  </thead>\n",
       "  <tbody>\n",
       "    <tr>\n",
       "      <th>2014-09-16</th>\n",
       "      <td>468.174011</td>\n",
       "      <td>452.421997</td>\n",
       "      <td>465.864014</td>\n",
       "      <td>457.334015</td>\n",
       "      <td>21056800.0</td>\n",
       "      <td>457.334015</td>\n",
       "      <td>NaN</td>\n",
       "    </tr>\n",
       "    <tr>\n",
       "      <th>2014-09-17</th>\n",
       "      <td>456.859985</td>\n",
       "      <td>413.104004</td>\n",
       "      <td>456.859985</td>\n",
       "      <td>424.440002</td>\n",
       "      <td>34483200.0</td>\n",
       "      <td>424.440002</td>\n",
       "      <td>-0.074643</td>\n",
       "    </tr>\n",
       "    <tr>\n",
       "      <th>2014-09-18</th>\n",
       "      <td>427.834991</td>\n",
       "      <td>384.532013</td>\n",
       "      <td>424.102997</td>\n",
       "      <td>394.795990</td>\n",
       "      <td>37919700.0</td>\n",
       "      <td>394.795990</td>\n",
       "      <td>-0.072402</td>\n",
       "    </tr>\n",
       "    <tr>\n",
       "      <th>2014-09-19</th>\n",
       "      <td>423.295990</td>\n",
       "      <td>389.882996</td>\n",
       "      <td>394.673004</td>\n",
       "      <td>408.903992</td>\n",
       "      <td>36863600.0</td>\n",
       "      <td>408.903992</td>\n",
       "      <td>0.035111</td>\n",
       "    </tr>\n",
       "    <tr>\n",
       "      <th>2014-09-20</th>\n",
       "      <td>412.425995</td>\n",
       "      <td>393.181000</td>\n",
       "      <td>408.084991</td>\n",
       "      <td>398.821014</td>\n",
       "      <td>26580100.0</td>\n",
       "      <td>398.821014</td>\n",
       "      <td>-0.024968</td>\n",
       "    </tr>\n",
       "  </tbody>\n",
       "</table>\n",
       "</div>"
      ],
      "text/plain": [
       "                  High         Low        Open       Close      Volume  \\\n",
       "Date                                                                     \n",
       "2014-09-16  468.174011  452.421997  465.864014  457.334015  21056800.0   \n",
       "2014-09-17  456.859985  413.104004  456.859985  424.440002  34483200.0   \n",
       "2014-09-18  427.834991  384.532013  424.102997  394.795990  37919700.0   \n",
       "2014-09-19  423.295990  389.882996  394.673004  408.903992  36863600.0   \n",
       "2014-09-20  412.425995  393.181000  408.084991  398.821014  26580100.0   \n",
       "\n",
       "             Adj Close  log returns  \n",
       "Date                                 \n",
       "2014-09-16  457.334015          NaN  \n",
       "2014-09-17  424.440002    -0.074643  \n",
       "2014-09-18  394.795990    -0.072402  \n",
       "2014-09-19  408.903992     0.035111  \n",
       "2014-09-20  398.821014    -0.024968  "
      ]
     },
     "execution_count": 10,
     "metadata": {},
     "output_type": "execute_result"
    }
   ],
   "source": [
    "# Head of data\n",
    "df.head()"
   ]
  },
  {
   "cell_type": "markdown",
   "metadata": {},
   "source": [
    "          "
   ]
  },
  {
   "cell_type": "markdown",
   "metadata": {},
   "source": [
    "         "
   ]
  },
  {
   "cell_type": "markdown",
   "metadata": {},
   "source": [
    "## <span style=\"color:Maroon\">Basic Exploratary Analysis"
   ]
  },
  {
   "cell_type": "code",
   "execution_count": 11,
   "metadata": {},
   "outputs": [],
   "source": [
    "# Change to Images directory\n",
    "os.chdir(\"..\")\n",
    "os.chdir(str(os.getcwd()) + \"\\\\Images\")"
   ]
  },
  {
   "cell_type": "markdown",
   "metadata": {},
   "source": [
    "### <span style=\"color:Maroon\">Histogram of Returns"
   ]
  },
  {
   "cell_type": "code",
   "execution_count": 12,
   "metadata": {},
   "outputs": [
    {
     "data": {
      "image/png": "[encoded data removed]",
      "text/plain": [
       "<Figure size 720x360 with 1 Axes>"
      ]
     },
     "metadata": {
      "needs_background": "light"
     },
     "output_type": "display_data"
    }
   ],
   "source": [
    "# Fit a normal distribution to the data:\n",
    "mu, std = norm.fit(df['log returns'].dropna())\n",
    "# Histogram for log returns\n",
    "plt.figure(figsize=(10,5))\n",
    "plt.hist(df['log returns'].dropna(), bins=100, density=True, facecolor='b', alpha=0.5)\n",
    "# Plot the PDF\n",
    "xmin, xmax = plt.xlim()\n",
    "x = np.linspace(xmin, xmax, 100)\n",
    "p = norm.pdf(x, mu, std)\n",
    "plt.plot(x, p, 'k', linewidth=2)\n",
    "title = \"Index {}: mu = {:+.4f},  std = {:+.4f}\".format(index, mu, std)\n",
    "plt.title(title, fontsize=16)\n",
    "plt.xlabel(\"Daily Log Returns\", fontsize=12)\n",
    "plt.ylabel(\"Probability\", fontsize=12)\n",
    "plt.grid()\n",
    "plt.savefig('histogram of returns ' + str(index) +'.png')\n",
    "plt.show()\n",
    "plt.close()"
   ]
  },
  {
   "cell_type": "markdown",
   "metadata": {},
   "source": [
    "__Comments:__ <span style=\"color:Blue\"> Based on above plot, we can conclude that the log returns are not normally distributed"
   ]
  },
  {
   "cell_type": "markdown",
   "metadata": {},
   "source": [
    "       "
   ]
  },
  {
   "cell_type": "markdown",
   "metadata": {},
   "source": [
    "### <span style=\"color:Maroon\">Time Series Plot of Returns"
   ]
  },
  {
   "cell_type": "code",
   "execution_count": 13,
   "metadata": {},
   "outputs": [],
   "source": [
    "plt.figure(figsize=(10,5))\n",
    "plt.plot(df['log returns'], alpha=0.5)\n",
    "plt.title('{} Log Returns'.format(index), fontsize=16)\n",
    "plt.xlabel('Date', fontsize=12)\n",
    "plt.grid()\n",
    "plt.savefig('Time series of returns ' + str(index) +'.png')\n",
    "plt.close()"
   ]
  },
  {
   "cell_type": "code",
   "execution_count": 14,
   "metadata": {
    "scrolled": true
   },
   "outputs": [
    {
     "data": {
      "image/png": "[encoded data removed]",
      "text/plain": [
       "<Figure size 720x360 with 1 Axes>"
      ]
     },
     "metadata": {
      "needs_background": "light"
     },
     "output_type": "display_data"
    }
   ],
   "source": [
    "plt.figure(figsize=(10,5))\n",
    "plt.plot(df['log returns'], alpha=0.5)\n",
    "plt.title('{} Log Returns'.format(index), fontsize=16)\n",
    "plt.xlabel('Date', fontsize=12)\n",
    "plt.grid()\n",
    "plt.show()"
   ]
  },
  {
   "cell_type": "markdown",
   "metadata": {},
   "source": [
    "__Comments:__ <span style=\"color:Blue\"> There are certain period of high volatility (Jun, 2011 to Dec, 2011, Feb 2020 to April, 2020)"
   ]
  },
  {
   "cell_type": "markdown",
   "metadata": {},
   "source": [
    "        "
   ]
  },
  {
   "cell_type": "markdown",
   "metadata": {},
   "source": [
    "### <span style=\"color:Maroon\">Volume Plot"
   ]
  },
  {
   "cell_type": "code",
   "execution_count": 15,
   "metadata": {},
   "outputs": [
    {
     "data": {
      "image/png": "[encoded data removed]",
      "text/plain": [
       "<Figure size 720x360 with 1 Axes>"
      ]
     },
     "metadata": {
      "needs_background": "light"
     },
     "output_type": "display_data"
    }
   ],
   "source": [
    "# Volume Plot at Weekly Level\n",
    "# Resample the data at weekly level\n",
    "df_weekly =df.resample('W').mean()\n",
    "\n",
    "plt.figure(figsize=(10,5))\n",
    "plt.plot(df_weekly['Volume'], 'b-', alpha=0.5)\n",
    "plt.xlabel(\"Date\", fontsize=12)\n",
    "plt.ylabel(\"Volume\", fontsize=12)\n",
    "plt.title(\"{} Average Weekly Volume\".format(index), fontsize=16)\n",
    "plt.grid()\n",
    "plt.savefig('Weekly Volume Plot ' + str(index) +'.png')\n",
    "plt.show()\n",
    "plt.close()"
   ]
  },
  {
   "cell_type": "markdown",
   "metadata": {},
   "source": [
    "__Comments:__ <span style=\"color:Blue\"> COVID had a big impact on volume of the Index, and it is reflected in above chart after Feb-Mar, 2020"
   ]
  },
  {
   "cell_type": "markdown",
   "metadata": {},
   "source": [
    "        "
   ]
  },
  {
   "cell_type": "markdown",
   "metadata": {},
   "source": [
    "### <span style=\"color:Maroon\">Basic Statistics for Log Returns"
   ]
  },
  {
   "cell_type": "code",
   "execution_count": 16,
   "metadata": {},
   "outputs": [
    {
     "name": "stdout",
     "output_type": "stream",
     "text": [
      "++++++++++++++++++++++++++++++++\n",
      "             Stock: BTC-USD\n",
      "              Mean: 0.001810\n",
      "Standard Deviation: 0.038955\n",
      "          Skewness: -0.924658\n",
      "          Kurtosis: 13.232225\n",
      "   Excess Kurtosis: 10.232225\n",
      "++++++++++++++++++++++++++++++++\n"
     ]
    }
   ],
   "source": [
    "# Get basic statistics for log returns\n",
    "Print_Fromated_metrics(df, index, 'log returns')"
   ]
  },
  {
   "cell_type": "markdown",
   "metadata": {},
   "source": [
    "       "
   ]
  },
  {
   "cell_type": "markdown",
   "metadata": {},
   "source": [
    "## <span style=\"color:Maroon\">Save the Data"
   ]
  },
  {
   "cell_type": "code",
   "execution_count": 17,
   "metadata": {},
   "outputs": [],
   "source": [
    "os.chdir(\"..\")\n",
    "os.chdir(str(os.getcwd()) + \"\\\\Data\")\n",
    "df.drop(\"log returns\", axis=1, inplace=True)\n",
    "df.to_csv(index +\".csv\", index=True)"
   ]
  },
  {
   "cell_type": "markdown",
   "metadata": {},
   "source": [
    "         "
   ]
  }
 ],
 "metadata": {
  "kernelspec": {
   "display_name": "Python 3",
   "language": "python",
   "name": "python3"
  },
  "language_info": {
   "codemirror_mode": {
    "name": "ipython",
    "version": 3
   },
   "file_extension": ".py",
   "mimetype": "text/x-python",
   "name": "python",
   "nbconvert_exporter": "python",
   "pygments_lexer": "ipython3",
   "version": "3.7.6"
  }
 },
 "nbformat": 4,
 "nbformat_minor": 4
}
