{
 "cells": [
  {
   "cell_type": "markdown",
   "metadata": {},
   "source": [
    "# <span style=\"color:Maroon\">Short Term Dependent Variable"
   ]
  },
  {
   "cell_type": "markdown",
   "metadata": {},
   "source": [
    "__Summary:__ <span style=\"color:Blue\">20 trading days standard deviation will be used to define the dependent variable as below:\n",
    "    \n",
    "$\\;\\;\\;\\;\\;\\;$ <span style=\"color:Blue\">Buy: If in next 5 days the price goes above (today price + 1 std deviation)\n",
    "    \n",
    "$\\;\\;\\;\\;\\;\\;$ <span style=\"color:Blue\">Sell: If in next 5 days the price goes below (today price - 1.5 std deviation)\n",
    "    \n",
    "$\\;\\;\\;\\;\\;\\;$ <span style=\"color:Blue\">No Action: If price oscillates between (today price + 1 std deviation) and (today price - 1.5 std deviation)"
   ]
  },
  {
   "cell_type": "code",
   "execution_count": 1,
   "metadata": {},
   "outputs": [],
   "source": [
    "# Import required libraries\n",
    "import warnings\n",
    "warnings.filterwarnings('ignore')\n",
    "import pandas as pd\n",
    "import numpy as np\n",
    "import matplotlib.pyplot as plt\n",
    "import os\n",
    "np.random.seed(0)"
   ]
  },
  {
   "cell_type": "code",
   "execution_count": 2,
   "metadata": {},
   "outputs": [],
   "source": [
    "# User defined names\n",
    "index = \"SSE Composite\"\n",
    "filename = index+\"_hurst_segment.csv\"\n",
    "date_col = \"Date\"\n",
    "std_window = 20 # Window size to calculate std\n",
    "analysis_window = 5 # Number of days in future to analyze price for tagging"
   ]
  },
  {
   "cell_type": "code",
   "execution_count": 3,
   "metadata": {},
   "outputs": [
    {
     "name": "stdout",
     "output_type": "stream",
     "text": [
      "C:\\Users\\sidhu\\Downloads\\Course 10 Capstone Project\\Trading Strategy Development\\Dev\\SSE Composite\\Codes\n"
     ]
    }
   ],
   "source": [
    "# Get current working directory\n",
    "mycwd = os.getcwd()\n",
    "print(mycwd)"
   ]
  },
  {
   "cell_type": "code",
   "execution_count": 4,
   "metadata": {},
   "outputs": [],
   "source": [
    "# Change to data directory\n",
    "os.chdir(\"..\")\n",
    "os.chdir(str(os.getcwd()) + \"\\\\Data\")"
   ]
  },
  {
   "cell_type": "code",
   "execution_count": 5,
   "metadata": {},
   "outputs": [
    {
     "data": {
      "text/html": [
       "<div>\n",
       "<style scoped>\n",
       "    .dataframe tbody tr th:only-of-type {\n",
       "        vertical-align: middle;\n",
       "    }\n",
       "\n",
       "    .dataframe tbody tr th {\n",
       "        vertical-align: top;\n",
       "    }\n",
       "\n",
       "    .dataframe thead th {\n",
       "        text-align: right;\n",
       "    }\n",
       "</style>\n",
       "<table border=\"1\" class=\"dataframe\">\n",
       "  <thead>\n",
       "    <tr style=\"text-align: right;\">\n",
       "      <th></th>\n",
       "      <th>High</th>\n",
       "      <th>Low</th>\n",
       "      <th>Open</th>\n",
       "      <th>Close</th>\n",
       "      <th>Volume</th>\n",
       "      <th>Adj Close</th>\n",
       "      <th>hurst_100</th>\n",
       "      <th>hurst_150</th>\n",
       "      <th>hurst_200</th>\n",
       "      <th>hurst_250</th>\n",
       "      <th>...</th>\n",
       "      <th>Indicator Trend Pos to Neg</th>\n",
       "      <th>Indicator Trend Neg to Pos</th>\n",
       "      <th>Increasing days</th>\n",
       "      <th>Decreasing days</th>\n",
       "      <th>Zero Cross Neg</th>\n",
       "      <th>Zero Cross Pos</th>\n",
       "      <th>Zero Cross Total</th>\n",
       "      <th>Ratio Trend</th>\n",
       "      <th>Ratio Zero</th>\n",
       "      <th>Segment</th>\n",
       "    </tr>\n",
       "    <tr>\n",
       "      <th>Date</th>\n",
       "      <th></th>\n",
       "      <th></th>\n",
       "      <th></th>\n",
       "      <th></th>\n",
       "      <th></th>\n",
       "      <th></th>\n",
       "      <th></th>\n",
       "      <th></th>\n",
       "      <th></th>\n",
       "      <th></th>\n",
       "      <th></th>\n",
       "      <th></th>\n",
       "      <th></th>\n",
       "      <th></th>\n",
       "      <th></th>\n",
       "      <th></th>\n",
       "      <th></th>\n",
       "      <th></th>\n",
       "      <th></th>\n",
       "      <th></th>\n",
       "      <th></th>\n",
       "    </tr>\n",
       "  </thead>\n",
       "  <tbody>\n",
       "    <tr>\n",
       "      <th>2011-01-04</th>\n",
       "      <td>2855.395996</td>\n",
       "      <td>2810.107910</td>\n",
       "      <td>2825.329102</td>\n",
       "      <td>2852.647949</td>\n",
       "      <td>110000.0</td>\n",
       "      <td>2852.647949</td>\n",
       "      <td>NaN</td>\n",
       "      <td>NaN</td>\n",
       "      <td>NaN</td>\n",
       "      <td>NaN</td>\n",
       "      <td>...</td>\n",
       "      <td>0</td>\n",
       "      <td>0</td>\n",
       "      <td>NaN</td>\n",
       "      <td>NaN</td>\n",
       "      <td>NaN</td>\n",
       "      <td>NaN</td>\n",
       "      <td>NaN</td>\n",
       "      <td>0.0</td>\n",
       "      <td>0.0</td>\n",
       "      <td>Mean Reverting</td>\n",
       "    </tr>\n",
       "    <tr>\n",
       "      <th>2011-01-05</th>\n",
       "      <td>2850.492920</td>\n",
       "      <td>2824.295898</td>\n",
       "      <td>2833.115967</td>\n",
       "      <td>2839.220947</td>\n",
       "      <td>104400.0</td>\n",
       "      <td>2839.220947</td>\n",
       "      <td>NaN</td>\n",
       "      <td>NaN</td>\n",
       "      <td>NaN</td>\n",
       "      <td>NaN</td>\n",
       "      <td>...</td>\n",
       "      <td>0</td>\n",
       "      <td>0</td>\n",
       "      <td>NaN</td>\n",
       "      <td>NaN</td>\n",
       "      <td>NaN</td>\n",
       "      <td>NaN</td>\n",
       "      <td>NaN</td>\n",
       "      <td>0.0</td>\n",
       "      <td>0.0</td>\n",
       "      <td>Mean Reverting</td>\n",
       "    </tr>\n",
       "    <tr>\n",
       "      <th>2011-01-06</th>\n",
       "      <td>2853.875000</td>\n",
       "      <td>2816.950928</td>\n",
       "      <td>2838.435059</td>\n",
       "      <td>2824.197021</td>\n",
       "      <td>84800.0</td>\n",
       "      <td>2824.197021</td>\n",
       "      <td>NaN</td>\n",
       "      <td>NaN</td>\n",
       "      <td>NaN</td>\n",
       "      <td>NaN</td>\n",
       "      <td>...</td>\n",
       "      <td>0</td>\n",
       "      <td>0</td>\n",
       "      <td>NaN</td>\n",
       "      <td>NaN</td>\n",
       "      <td>NaN</td>\n",
       "      <td>NaN</td>\n",
       "      <td>NaN</td>\n",
       "      <td>0.0</td>\n",
       "      <td>0.0</td>\n",
       "      <td>Mean Reverting</td>\n",
       "    </tr>\n",
       "    <tr>\n",
       "      <th>2011-01-07</th>\n",
       "      <td>2868.004883</td>\n",
       "      <td>2807.870117</td>\n",
       "      <td>2820.665039</td>\n",
       "      <td>2838.801025</td>\n",
       "      <td>113200.0</td>\n",
       "      <td>2838.801025</td>\n",
       "      <td>NaN</td>\n",
       "      <td>NaN</td>\n",
       "      <td>NaN</td>\n",
       "      <td>NaN</td>\n",
       "      <td>...</td>\n",
       "      <td>0</td>\n",
       "      <td>0</td>\n",
       "      <td>NaN</td>\n",
       "      <td>NaN</td>\n",
       "      <td>NaN</td>\n",
       "      <td>NaN</td>\n",
       "      <td>NaN</td>\n",
       "      <td>0.0</td>\n",
       "      <td>0.0</td>\n",
       "      <td>Mean Reverting</td>\n",
       "    </tr>\n",
       "    <tr>\n",
       "      <th>2011-01-10</th>\n",
       "      <td>2847.357910</td>\n",
       "      <td>2786.861084</td>\n",
       "      <td>2832.622070</td>\n",
       "      <td>2791.809082</td>\n",
       "      <td>90800.0</td>\n",
       "      <td>2791.809082</td>\n",
       "      <td>NaN</td>\n",
       "      <td>NaN</td>\n",
       "      <td>NaN</td>\n",
       "      <td>NaN</td>\n",
       "      <td>...</td>\n",
       "      <td>0</td>\n",
       "      <td>0</td>\n",
       "      <td>NaN</td>\n",
       "      <td>NaN</td>\n",
       "      <td>NaN</td>\n",
       "      <td>NaN</td>\n",
       "      <td>NaN</td>\n",
       "      <td>0.0</td>\n",
       "      <td>0.0</td>\n",
       "      <td>Mean Reverting</td>\n",
       "    </tr>\n",
       "  </tbody>\n",
       "</table>\n",
       "<p>5 rows × 27 columns</p>\n",
       "</div>"
      ],
      "text/plain": [
       "                   High          Low         Open        Close    Volume  \\\n",
       "Date                                                                       \n",
       "2011-01-04  2855.395996  2810.107910  2825.329102  2852.647949  110000.0   \n",
       "2011-01-05  2850.492920  2824.295898  2833.115967  2839.220947  104400.0   \n",
       "2011-01-06  2853.875000  2816.950928  2838.435059  2824.197021   84800.0   \n",
       "2011-01-07  2868.004883  2807.870117  2820.665039  2838.801025  113200.0   \n",
       "2011-01-10  2847.357910  2786.861084  2832.622070  2791.809082   90800.0   \n",
       "\n",
       "              Adj Close  hurst_100  hurst_150  hurst_200  hurst_250  ...  \\\n",
       "Date                                                                 ...   \n",
       "2011-01-04  2852.647949        NaN        NaN        NaN        NaN  ...   \n",
       "2011-01-05  2839.220947        NaN        NaN        NaN        NaN  ...   \n",
       "2011-01-06  2824.197021        NaN        NaN        NaN        NaN  ...   \n",
       "2011-01-07  2838.801025        NaN        NaN        NaN        NaN  ...   \n",
       "2011-01-10  2791.809082        NaN        NaN        NaN        NaN  ...   \n",
       "\n",
       "            Indicator Trend Pos to Neg  Indicator Trend Neg to Pos  \\\n",
       "Date                                                                 \n",
       "2011-01-04                           0                           0   \n",
       "2011-01-05                           0                           0   \n",
       "2011-01-06                           0                           0   \n",
       "2011-01-07                           0                           0   \n",
       "2011-01-10                           0                           0   \n",
       "\n",
       "            Increasing days  Decreasing days  Zero Cross Neg  Zero Cross Pos  \\\n",
       "Date                                                                           \n",
       "2011-01-04              NaN              NaN             NaN             NaN   \n",
       "2011-01-05              NaN              NaN             NaN             NaN   \n",
       "2011-01-06              NaN              NaN             NaN             NaN   \n",
       "2011-01-07              NaN              NaN             NaN             NaN   \n",
       "2011-01-10              NaN              NaN             NaN             NaN   \n",
       "\n",
       "            Zero Cross Total  Ratio Trend  Ratio Zero         Segment  \n",
       "Date                                                                   \n",
       "2011-01-04               NaN          0.0         0.0  Mean Reverting  \n",
       "2011-01-05               NaN          0.0         0.0  Mean Reverting  \n",
       "2011-01-06               NaN          0.0         0.0  Mean Reverting  \n",
       "2011-01-07               NaN          0.0         0.0  Mean Reverting  \n",
       "2011-01-10               NaN          0.0         0.0  Mean Reverting  \n",
       "\n",
       "[5 rows x 27 columns]"
      ]
     },
     "execution_count": 5,
     "metadata": {},
     "output_type": "execute_result"
    }
   ],
   "source": [
    "# Read the data\n",
    "df = pd.read_csv(filename, index_col=date_col)\n",
    "df.index = pd.to_datetime(df.index)\n",
    "df.head()"
   ]
  },
  {
   "cell_type": "markdown",
   "metadata": {},
   "source": [
    "         "
   ]
  },
  {
   "cell_type": "markdown",
   "metadata": {},
   "source": [
    "        "
   ]
  },
  {
   "cell_type": "markdown",
   "metadata": {},
   "source": [
    "## <span style=\"color:Maroon\">Calculations for Dependent Variable"
   ]
  },
  {
   "cell_type": "code",
   "execution_count": 6,
   "metadata": {},
   "outputs": [],
   "source": [
    "# Calculate N days standard deviation\n",
    "df['DVT STD'] = df['Adj Close'].rolling(std_window).std()\n",
    "# Calculate Maximum and Minimum price in next n days\n",
    "df['DVT MAX'] = df['Adj Close'].rolling(analysis_window).max().shift(-analysis_window)\n",
    "df['DVT MIN'] = df['Adj Close'].rolling(analysis_window).min().shift(-analysis_window)"
   ]
  },
  {
   "cell_type": "code",
   "execution_count": 7,
   "metadata": {},
   "outputs": [],
   "source": [
    "# Calculate the upper and lower range as todays price +- 1 std\n",
    "df['DVT Upper'] = df['Adj Close'] + df['DVT STD']\n",
    "df['DVT Lower'] = df['Adj Close'] - 1.5*df['DVT STD']"
   ]
  },
  {
   "cell_type": "code",
   "execution_count": 8,
   "metadata": {},
   "outputs": [],
   "source": [
    "# Define the dependent variable. We shall give preference to Buy decision over sell decision\n",
    "df['Target'] = np.where(df['DVT MAX'] > df['DVT Upper'], 1,np.where(df['DVT MIN'] < df['DVT Lower'], -1, 0))"
   ]
  },
  {
   "cell_type": "code",
   "execution_count": 9,
   "metadata": {},
   "outputs": [
    {
     "data": {
      "text/plain": [
       " 0    1295\n",
       " 1     730\n",
       "-1     404\n",
       "Name: Target, dtype: int64"
      ]
     },
     "execution_count": 9,
     "metadata": {},
     "output_type": "execute_result"
    }
   ],
   "source": [
    "# Value counts\n",
    "df['Target'].value_counts()"
   ]
  },
  {
   "cell_type": "code",
   "execution_count": 10,
   "metadata": {},
   "outputs": [
    {
     "data": {
      "text/html": [
       "<div>\n",
       "<style scoped>\n",
       "    .dataframe tbody tr th:only-of-type {\n",
       "        vertical-align: middle;\n",
       "    }\n",
       "\n",
       "    .dataframe tbody tr th {\n",
       "        vertical-align: top;\n",
       "    }\n",
       "\n",
       "    .dataframe thead th {\n",
       "        text-align: right;\n",
       "    }\n",
       "</style>\n",
       "<table border=\"1\" class=\"dataframe\">\n",
       "  <thead>\n",
       "    <tr style=\"text-align: right;\">\n",
       "      <th>Segment</th>\n",
       "      <th>Mean Reverting</th>\n",
       "      <th>Trending</th>\n",
       "    </tr>\n",
       "    <tr>\n",
       "      <th>Target</th>\n",
       "      <th></th>\n",
       "      <th></th>\n",
       "    </tr>\n",
       "  </thead>\n",
       "  <tbody>\n",
       "    <tr>\n",
       "      <th>-1</th>\n",
       "      <td>0.158320</td>\n",
       "      <td>0.174395</td>\n",
       "    </tr>\n",
       "    <tr>\n",
       "      <th>0</th>\n",
       "      <td>0.529079</td>\n",
       "      <td>0.533266</td>\n",
       "    </tr>\n",
       "    <tr>\n",
       "      <th>1</th>\n",
       "      <td>0.312601</td>\n",
       "      <td>0.292339</td>\n",
       "    </tr>\n",
       "  </tbody>\n",
       "</table>\n",
       "</div>"
      ],
      "text/plain": [
       "Segment  Mean Reverting  Trending\n",
       "Target                           \n",
       "-1             0.158320  0.174395\n",
       " 0             0.529079  0.533266\n",
       " 1             0.312601  0.292339"
      ]
     },
     "execution_count": 10,
     "metadata": {},
     "output_type": "execute_result"
    }
   ],
   "source": [
    "# Cross Tab\n",
    "df1 = df[df['hurst_200'] > 0]\n",
    "pd.crosstab(df1['Target'], df1['Segment'], normalize='columns')"
   ]
  },
  {
   "cell_type": "markdown",
   "metadata": {},
   "source": [
    "__Comments:__ <span style=\"color:Blue\"> Both segments tend to provide almost equal buy and sell signals"
   ]
  },
  {
   "cell_type": "markdown",
   "metadata": {},
   "source": [
    "        "
   ]
  },
  {
   "cell_type": "markdown",
   "metadata": {},
   "source": [
    "          "
   ]
  },
  {
   "cell_type": "markdown",
   "metadata": {},
   "source": [
    "## <span style=\"color:Maroon\">Save the Data"
   ]
  },
  {
   "cell_type": "code",
   "execution_count": 11,
   "metadata": {},
   "outputs": [
    {
     "data": {
      "text/plain": [
       "Index(['High', 'Low', 'Open', 'Close', 'Volume', 'Adj Close', 'hurst_100',\n",
       "       'hurst_150', 'hurst_200', 'hurst_250', 'hurst_300', 'hurst_400',\n",
       "       'Adj Close MA20', 'Adj Close MA20 1diff', 'Adj Close MA20 diff Product',\n",
       "       'Indicator Increasing', 'Indicator Decreasing',\n",
       "       'Indicator Trend Pos to Neg', 'Indicator Trend Neg to Pos',\n",
       "       'Increasing days', 'Decreasing days', 'Zero Cross Neg',\n",
       "       'Zero Cross Pos', 'Zero Cross Total', 'Ratio Trend', 'Ratio Zero',\n",
       "       'Segment', 'DVT STD', 'DVT MAX', 'DVT MIN', 'DVT Upper', 'DVT Lower',\n",
       "       'Target'],\n",
       "      dtype='object')"
      ]
     },
     "execution_count": 11,
     "metadata": {},
     "output_type": "execute_result"
    }
   ],
   "source": [
    "# Get the columns\n",
    "df.columns"
   ]
  },
  {
   "cell_type": "code",
   "execution_count": 12,
   "metadata": {},
   "outputs": [],
   "source": [
    "# drop columns not required in future\n",
    "df.drop(['DVT MAX', 'DVT MIN', 'DVT Upper', 'DVT Lower'], axis=1, inplace=True)"
   ]
  },
  {
   "cell_type": "code",
   "execution_count": 13,
   "metadata": {},
   "outputs": [
    {
     "data": {
      "text/plain": [
       "Index(['High', 'Low', 'Open', 'Close', 'Volume', 'Adj Close', 'hurst_100',\n",
       "       'hurst_150', 'hurst_200', 'hurst_250', 'hurst_300', 'hurst_400',\n",
       "       'Adj Close MA20', 'Adj Close MA20 1diff', 'Adj Close MA20 diff Product',\n",
       "       'Indicator Increasing', 'Indicator Decreasing',\n",
       "       'Indicator Trend Pos to Neg', 'Indicator Trend Neg to Pos',\n",
       "       'Increasing days', 'Decreasing days', 'Zero Cross Neg',\n",
       "       'Zero Cross Pos', 'Zero Cross Total', 'Ratio Trend', 'Ratio Zero',\n",
       "       'Segment', 'DVT STD', 'Target'],\n",
       "      dtype='object')"
      ]
     },
     "execution_count": 13,
     "metadata": {},
     "output_type": "execute_result"
    }
   ],
   "source": [
    "# Get the columns\n",
    "df.columns"
   ]
  },
  {
   "cell_type": "code",
   "execution_count": 14,
   "metadata": {},
   "outputs": [],
   "source": [
    "os.chdir(\"..\")\n",
    "os.chdir(str(os.getcwd()) + \"\\\\Data\")\n",
    "df.to_csv(index +\"_hurst_segment_dependent\"+\".csv\", index=True)"
   ]
  },
  {
   "cell_type": "markdown",
   "metadata": {},
   "source": [
    "      "
   ]
  },
  {
   "cell_type": "markdown",
   "metadata": {},
   "source": [
    "     "
   ]
  }
 ],
 "metadata": {
  "kernelspec": {
   "display_name": "Python 3",
   "language": "python",
   "name": "python3"
  },
  "language_info": {
   "codemirror_mode": {
    "name": "ipython",
    "version": 3
   },
   "file_extension": ".py",
   "mimetype": "text/x-python",
   "name": "python",
   "nbconvert_exporter": "python",
   "pygments_lexer": "ipython3",
   "version": "3.7.6"
  }
 },
 "nbformat": 4,
 "nbformat_minor": 4
}
